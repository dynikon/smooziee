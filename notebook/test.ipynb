{
 "cells": [
  {
   "cell_type": "code",
   "execution_count": 4,
   "metadata": {},
   "outputs": [],
   "source": [
    "##### setting\n",
    "### set filename you want to analysis\n",
    "filepath = None\n",
    "\n",
    "if filepath == None:\n",
    "    import os\n",
    "    import smooziee\n",
    "    filepath = os.path.join(os.path.dirname(smooziee.__file__), 'data', 'PbTe_sq_GX711_p0p25_RT_4')\n",
    "    \n",
    "filename = os.path.basename(filepath)"
   ]
  },
  {
   "cell_type": "code",
   "execution_count": 5,
   "metadata": {},
   "outputs": [],
   "source": [
    "##### import\n",
    "# import smooziee.module.fitting as sm_fit\n",
    "import imp\n",
    "import lmfit\n",
    "from lmfit import Model\n",
    "# imp.reload(sm_fit)\n",
    "import pandas as pd\n",
    "import numpy as np\n",
    "import matplotlib.pyplot as plt\n",
    "# from smooziee.module import function\n",
    "# from smooziee.module import function_test\n",
    "\n",
    "##### read data from filename\n",
    "data_df = pd.read_csv(filepath, sep='\\s+')\n",
    "x_arr = np.array(data_df.meV)\n",
    "y_arr = np.array(data_df.y_unitpk)"
   ]
  },
  {
   "cell_type": "code",
   "execution_count": 6,
   "metadata": {},
   "outputs": [
    {
     "ename": "KeyError",
     "evalue": "'g1_center'",
     "output_type": "error",
     "traceback": [
      "\u001b[0;31m---------------------------------------------------------------------------\u001b[0m",
      "\u001b[0;31mKeyError\u001b[0m                                  Traceback (most recent call last)",
      "\u001b[0;32m<ipython-input-6-bb2d5e139dcf>\u001b[0m in \u001b[0;36m<module>\u001b[0;34m()\u001b[0m\n\u001b[1;32m     17\u001b[0m \u001b[0mgauss1\u001b[0m\u001b[0;34m.\u001b[0m\u001b[0mmake_params\u001b[0m\u001b[0;34m(\u001b[0m\u001b[0;34m)\u001b[0m\u001b[0;34m\u001b[0m\u001b[0m\n\u001b[1;32m     18\u001b[0m \u001b[0;34m\u001b[0m\u001b[0m\n\u001b[0;32m---> 19\u001b[0;31m \u001b[0mpars\u001b[0m\u001b[0;34m[\u001b[0m\u001b[0;34m'g1_center'\u001b[0m\u001b[0;34m]\u001b[0m\u001b[0;34m.\u001b[0m\u001b[0mset\u001b[0m\u001b[0;34m(\u001b[0m\u001b[0;36m105\u001b[0m\u001b[0;34m,\u001b[0m \u001b[0mmin\u001b[0m\u001b[0;34m=\u001b[0m\u001b[0;36m75\u001b[0m\u001b[0;34m,\u001b[0m \u001b[0mmax\u001b[0m\u001b[0;34m=\u001b[0m\u001b[0;36m125\u001b[0m\u001b[0;34m)\u001b[0m\u001b[0;34m\u001b[0m\u001b[0m\n\u001b[0m\u001b[1;32m     20\u001b[0m \u001b[0mpars\u001b[0m\u001b[0;34m[\u001b[0m\u001b[0;34m'g1_sigma'\u001b[0m\u001b[0;34m]\u001b[0m\u001b[0;34m.\u001b[0m\u001b[0mset\u001b[0m\u001b[0;34m(\u001b[0m\u001b[0;36m15\u001b[0m\u001b[0;34m,\u001b[0m \u001b[0mmin\u001b[0m\u001b[0;34m=\u001b[0m\u001b[0;36m3\u001b[0m\u001b[0;34m)\u001b[0m\u001b[0;34m\u001b[0m\u001b[0m\n\u001b[1;32m     21\u001b[0m \u001b[0mpars\u001b[0m\u001b[0;34m[\u001b[0m\u001b[0;34m'g1_amplitude'\u001b[0m\u001b[0;34m]\u001b[0m\u001b[0;34m.\u001b[0m\u001b[0mset\u001b[0m\u001b[0;34m(\u001b[0m\u001b[0;36m2000\u001b[0m\u001b[0;34m,\u001b[0m \u001b[0mmin\u001b[0m\u001b[0;34m=\u001b[0m\u001b[0;36m10\u001b[0m\u001b[0;34m)\u001b[0m\u001b[0;34m\u001b[0m\u001b[0m\n",
      "\u001b[0;31mKeyError\u001b[0m: 'g1_center'"
     ]
    }
   ],
   "source": [
    "#!/usr/bin/env python\n",
    "\n",
    "# <examples/doc_builtinmodels_nistgauss.py>\n",
    "import matplotlib.pyplot as plt\n",
    "import numpy as np\n",
    "\n",
    "from lmfit.models import ExponentialModel, GaussianModel\n",
    "\n",
    "x = x_arr\n",
    "y = y_arr\n",
    "\n",
    "exp_mod = ExponentialModel(prefix='exp_')\n",
    "pars = exp_mod.guess(y, x=x)\n",
    "\n",
    "gauss1 = GaussianModel(prefix='g1_')\n",
    "# pars.update(gauss1.make_params())\n",
    "gauss1.make_params()\n",
    "\n",
    "pars['g1_center'].set(105, min=75, max=125)\n",
    "pars['g1_sigma'].set(15, min=3)\n",
    "pars['g1_amplitude'].set(2000, min=10)\n",
    "\n",
    "gauss2 = GaussianModel(prefix='g2_')\n",
    "\n",
    "pars.update(gauss2.make_params())\n",
    "\n",
    "pars['g2_center'].set(155, min=125, max=175)\n",
    "pars['g2_sigma'].set(15, min=3)\n",
    "pars['g2_amplitude'].set(2000, min=10)\n",
    "\n",
    "mod = gauss1 + gauss2 + exp_mod\n",
    "\n",
    "init = mod.eval(pars, x=x)\n",
    "\n",
    "out = mod.fit(y, pars, x=x)\n",
    "print(out.fit_report(min_correl=0.5))\n",
    "\n",
    "plot_components = False\n",
    "\n",
    "plt.plot(x, y, 'b')\n",
    "plt.plot(x, init, 'k--')\n",
    "plt.plot(x, out.best_fit, 'r-')\n",
    "\n",
    "if plot_components:\n",
    "    comps = out.eval_components(x=x)\n",
    "    plt.plot(x, comps['g1_'], 'b--')\n",
    "    plt.plot(x, comps['g2_'], 'b--')\n",
    "    plt.plot(x, comps['exp_'], 'k--')\n",
    "\n",
    "plt.xlim(-20,40)\n",
    "plt.show()\n",
    "# <end examples/doc_builtinmodels_nistgauss.py>"
   ]
  },
  {
   "cell_type": "code",
   "execution_count": 20,
   "metadata": {},
   "outputs": [
    {
     "name": "stdout",
     "output_type": "stream",
     "text": [
      "['g1_sigma', 'g1_center', 'g1_amplitude']\n",
      "['g2_sigma', 'g2_center', 'g2_amplitude']\n"
     ]
    }
   ],
   "source": [
    "gauss1 = GaussianModel(prefix='g1_')\n",
    "print(gauss1.param_names)\n",
    "gauss2 = GaussianModel(prefix='g2_')\n",
    "print(gauss2.param_names)\n",
    "gauss3 = GaussianModel(prefix='g3_')\n",
    "mod = gauss1 + gauss2 + gauss3\n"
   ]
  },
  {
   "cell_type": "code",
   "execution_count": 8,
   "metadata": {},
   "outputs": [],
   "source": [
    "param = lmfit.Parameters()\n",
    "param.add('g1_sigma', value=1, vary=False)\n",
    "param.add('g2_sigma', value=1)\n",
    "param.add('g1_center', value=1)\n",
    "param.add('g2_center', value=1)\n",
    "param.add('g1_amplitude', value=1)\n",
    "param.add('g2_amplitude', value=1)\n",
    "# print(param.valuesdict())\n",
    "# print(dict(param.valuesdict()))\n",
    "# \n",
    "# \n",
    "# param = lmfit.Parameters()\n",
    "# param.update(gauss1.make_params())\n",
    "# param.update(gauss2.make_params())\n",
    "# # print(param.valuesdict())\n",
    "# print(dict(param.valuesdict()))"
   ]
  },
  {
   "cell_type": "code",
   "execution_count": 9,
   "metadata": {},
   "outputs": [
    {
     "name": "stdout",
     "output_type": "stream",
     "text": [
      "<class 'lmfit.model.CompositeModel'>\n",
      "[[Model]]\n",
      "    (Model(gaussian, prefix='g1_') + Model(gaussian, prefix='g2_'))\n",
      "[[Fit Statistics]]\n",
      "    # fitting method   = leastsq\n",
      "    # function evals   = 63\n",
      "    # data points      = 73\n",
      "    # variables        = 5\n",
      "    chi-square         = 1.12738400\n",
      "    reduced chi-square = 0.01657918\n",
      "    Akaike info crit   = -294.450846\n",
      "    Bayesian info crit = -282.998549\n",
      "[[Variables]]\n",
      "    g1_sigma:      1 (fixed)\n",
      "    g2_sigma:      10.9674264 (init = 1)\n",
      "    g1_center:    -18.2947922 (init = 1)\n",
      "    g2_center:     2.71838917 (init = 1)\n",
      "    g1_amplitude: -14.7943856 (init = 1)\n",
      "    g2_amplitude:  16.5276791 (init = 1)\n",
      "\n"
     ]
    }
   ],
   "source": [
    "out = mod.fit(y, param, x=x)\n",
    "mod.fit(y, param, x=x)\n",
    "print(type(mod))\n",
    "print(out.fit_report(min_correl=0.5))"
   ]
  },
  {
   "cell_type": "code",
   "execution_count": 22,
   "metadata": {},
   "outputs": [
    {
     "name": "stdout",
     "output_type": "stream",
     "text": [
      "['x']\n",
      "['g1_sigma', 'g1_center', 'g1_amplitude', 'g2_sigma', 'g2_center', 'g2_amplitude', 'g3_sigma', 'g3_center', 'g3_amplitude']\n",
      "((Model(gaussian, prefix='g1_') + Model(gaussian, prefix='g2_')) + Model(gaussian, prefix='g3_'))\n"
     ]
    }
   ],
   "source": [
    "print(mod.independent_vars)\n",
    "print(mod.param_names)\n",
    "print(mod.name)\n",
    "params = mod.make_params()\n",
    "# print(params.pretty_print())\n",
    "\n",
    "# import pprint\n",
    "# pp = pprint.PrettyPrinter(indent=4)\n",
    "# pp.pprint(mod.__dict__)\n"
   ]
  },
  {
   "cell_type": "code",
   "execution_count": 12,
   "metadata": {},
   "outputs": [],
   "source": [
    "params = lmfit.Parameters()\n",
    "params.add()"
   ]
  },
  {
   "cell_type": "code",
   "execution_count": null,
   "metadata": {},
   "outputs": [],
   "source": []
  }
 ],
 "metadata": {
  "kernelspec": {
   "display_name": "Python 3",
   "language": "python",
   "name": "python3"
  },
  "language_info": {
   "codemirror_mode": {
    "name": "ipython",
    "version": 3
   },
   "file_extension": ".py",
   "mimetype": "text/x-python",
   "name": "python",
   "nbconvert_exporter": "python",
   "pygments_lexer": "ipython3",
   "version": "3.6.4"
  }
 },
 "nbformat": 4,
 "nbformat_minor": 2
}
