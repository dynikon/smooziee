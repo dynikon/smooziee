{
 "cells": [
  {
   "cell_type": "code",
   "execution_count": 20,
   "metadata": {},
   "outputs": [],
   "source": [
    "##### setting\n",
    "import os\n",
    "import smooziee\n",
    "filepath = os.path.join(os.path.dirname(smooziee.__file__), 'data', 'PbTe_sq_GX711_p0p25_RT_4')\n",
    "filename = os.path.basename(filepath)\n",
    "##### import\n",
    "import lmfit\n",
    "from lmfit import Model\n",
    "import pandas as pd\n",
    "import numpy as np\n",
    "import matplotlib.pyplot as plt\n",
    "from numpy import exp\n",
    "from numpy import sin\n",
    "\n",
    "##### read data from filename\n",
    "data_df = pd.read_csv(filepath, sep='\\s+')\n",
    "x_arr = np.array(data_df.meV)\n",
    "y_arr = np.array(data_df.y_unitpk)"
   ]
  },
  {
   "cell_type": "code",
   "execution_count": 21,
   "metadata": {},
   "outputs": [],
   "source": [
    "from lmfit import minimize, Parameters\n",
    "def residual(params, x, data, eps_data):\n",
    "    amp = params['amp'].value\n",
    "    pshift = params['phase'].value\n",
    "    freq = params['frequency'].value\n",
    "    decay = params['decay'].value\n",
    "    model = amp * sin(x * freq + pshift) * exp(-x*x*decay)\n",
    "    return (data-model)/eps_data"
   ]
  },
  {
   "cell_type": "code",
   "execution_count": 26,
   "metadata": {},
   "outputs": [
    {
     "name": "stdout",
     "output_type": "stream",
     "text": [
      "<Parameter 'amp', 10, bounds=[-inf:inf]>\n",
      "<Parameter 'decay', 0.007, bounds=[-inf:inf]>\n",
      "<Parameter 'phase', 0.2, bounds=[-inf:inf]>\n",
      "<Parameter 'frequency', 3.0, bounds=[-inf:inf]>\n",
      "\n",
      "<Parameter 'amp', value=-13.075161272368154 +/- 8.68e+04, bounds=[-inf:inf]>\n",
      "<Parameter 'decay', value=0.003910349205206686 +/- 0.00525, bounds=[-inf:inf]>\n",
      "<Parameter 'phase', value=-0.04465681146422962 +/- 299, bounds=[-inf:inf]>\n",
      "<Parameter 'frequency', value=-0.0009567961311438306 +/- 6.42, bounds=[-inf:inf]>\n"
     ]
    }
   ],
   "source": [
    "params = Parameters()\n",
    "params.add('amp', value=10)\n",
    "params.add('decay', value=0.007)\n",
    "params.add('phase', value=0.2)\n",
    "params.add('frequency', value=3.0)\n",
    "print(params['amp'])\n",
    "print(params['decay'])\n",
    "print(params['phase'])\n",
    "print(params['frequency'])\n",
    "minimize(residual, params, args=(x_arr, y_arr, 2))\n",
    "print(\"\")\n",
    "print(out.params['amp'])\n",
    "print(out.params['decay'])\n",
    "print(out.params['phase'])\n",
    "print(out.params['frequency'])"
   ]
  },
  {
   "cell_type": "code",
   "execution_count": 43,
   "metadata": {},
   "outputs": [
    {
     "name": "stdout",
     "output_type": "stream",
     "text": [
      "<Parameter 'amp', value=15 (fixed), bounds=[-inf:inf]>\n",
      "<Parameter 'decay', 0.007, bounds=[-inf:inf]>\n",
      "<Parameter 'phase', 0.007, bounds=[-inf:inf], expr='decay'>\n",
      "<Parameter 'frequency', 3.0, bounds=[0:100]>\n",
      "\n",
      "<Parameter 'amp', value=15 (fixed), bounds=[-inf:inf]>\n",
      "<Parameter 'decay', value=3.0931292598873394 +/- 0.0245, bounds=[-inf:inf]>\n",
      "<Parameter 'phase', value=3.0931292598873394 +/- 0.0245, bounds=[-inf:inf], expr='decay'>\n",
      "<Parameter 'frequency', value=5.970982724923246e-06 +/- 0.0875, bounds=[0:100]>\n"
     ]
    }
   ],
   "source": [
    "params = Parameters()\n",
    "# params.add('amp', value=10, min=-10, max=20)\n",
    "# params.add('amp', value=15)\n",
    "# params.add('decay', value=0.007)\n",
    "# params.add('phase', value=0.007)\n",
    "# params.add('frequency', value=3.0)\n",
    "params.add('amp', value=15, vary=False)\n",
    "params.add('decay', value=0.007)\n",
    "params.add('phase', value=0.007, expr='decay')\n",
    "params.add('frequency', value=3.0, min=0, max=100)\n",
    "print(params['amp'])\n",
    "print(params['decay'])\n",
    "print(params['phase'])\n",
    "print(params['frequency'])\n",
    "out = minimize(residual, params, args=(x_arr, y_arr, 2))\n",
    "print(\"\")\n",
    "print(out.params['amp'])\n",
    "print(out.params['decay'])\n",
    "print(out.params['phase'])\n",
    "print(out.params['frequency'])"
   ]
  },
  {
   "cell_type": "code",
   "execution_count": null,
   "metadata": {},
   "outputs": [],
   "source": []
  }
 ],
 "metadata": {
  "kernelspec": {
   "display_name": "Python 3",
   "language": "python",
   "name": "python3"
  },
  "language_info": {
   "codemirror_mode": {
    "name": "ipython",
    "version": 3
   },
   "file_extension": ".py",
   "mimetype": "text/x-python",
   "name": "python",
   "nbconvert_exporter": "python",
   "pygments_lexer": "ipython3",
   "version": "3.6.6"
  }
 },
 "nbformat": 4,
 "nbformat_minor": 2
}
