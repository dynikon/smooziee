{
 "cells": [
  {
   "cell_type": "code",
   "execution_count": 5,
   "metadata": {},
   "outputs": [],
   "source": [
    "##### setting\n",
    "### set filename you want to analysis\n",
    "filepath = None\n",
    "\n",
    "if filepath == None:\n",
    "    import os\n",
    "    import smooziee\n",
    "    filepath = os.path.join(os.path.dirname(smooziee.__file__), 'data', 'PbTe_sq_GX711_p0p25_RT_4')\n",
    "    \n",
    "filename = os.path.basename(filepath)\n"
   ]
  },
  {
   "cell_type": "code",
   "execution_count": 6,
   "metadata": {},
   "outputs": [],
   "source": [
    "##### import\n",
    "# from smooziee.smooziee.fitting import Fitting\n",
    "# from smooziee.smooziee.peak_search import PeakSearch\n",
    "from smooziee.smooziee import fitting\n",
    "from smooziee.smooziee import peak_search\n",
    "import imp\n",
    "imp.reload(fitting)\n",
    "imp.reload(peak_search)\n",
    "import pandas as pd\n",
    "import numpy as np\n",
    "import matplotlib.pyplot as plt\n",
    "import lmfit\n"
   ]
  },
  {
   "cell_type": "code",
   "execution_count": 7,
   "metadata": {},
   "outputs": [
    {
     "name": "stdout",
     "output_type": "stream",
     "text": [
      "(73,)\n",
      "(73,)\n",
      "[7, 15, 21, 28, 36, 47, 55]\n",
      "[[7, 36], [15, 28]]\n"
     ]
    }
   ],
   "source": [
    "import pickle\n",
    "with open('pksearch.pickle', 'rb') as f:\n",
    "    processor = pickle.load(f) \n",
    "\n",
    "print(processor.x.shape)\n",
    "print(processor.y.shape)\n",
    "print(processor.ix_peaks)\n",
    "print(processor.ix_peak_pairs)"
   ]
  },
  {
   "cell_type": "code",
   "execution_count": 8,
   "metadata": {},
   "outputs": [],
   "source": [
    "class PeakSearch():\n",
    "    def __init__(self, ix_peaks, ix_peakpairs):\n",
    "        self.ix_peaks = ix_peaks\n",
    "        self.ix_peakpairs = ix_peakpairs\n",
    "\n",
    "peaksearch = PeakSearch(processor.ix_peaks,\n",
    "                        processor.ix_peak_pairs)\n",
    "\n",
    "fit = fitting.Fitting(peaksearch,\n",
    "                      ['lorentzian' for i in range(len(processor.ix_peaks))])\n"
   ]
  },
  {
   "cell_type": "code",
   "execution_count": 9,
   "metadata": {},
   "outputs": [],
   "source": [
    "fit.set_params_expr(param_names=['sigma', 'amplitude'])"
   ]
  },
  {
   "cell_type": "code",
   "execution_count": 10,
   "metadata": {},
   "outputs": [
    {
     "name": "stdout",
     "output_type": "stream",
     "text": [
      "Name             Value      Min      Max   Stderr     Vary     Expr Brute_Step\n",
      "l0_amplitude         1     -inf      inf     None     True     None     None\n",
      "l0_center            7     -inf      inf     None     True     None     None\n",
      "l0_fwhm              2     -inf      inf     None    False 2.0000000*l0_sigma     None\n",
      "l0_height       0.3183     -inf      inf     None    False 0.3183099*l0_amplitude/max(1.e-15, l0_sigma)     None\n",
      "l0_sigma             1        0      inf     None     True     None     None\n",
      "l1_amplitude         1     -inf      inf     None     True     None     None\n",
      "l1_center           15     -inf      inf     None     True     None     None\n",
      "l1_fwhm              2     -inf      inf     None    False 2.0000000*l1_sigma     None\n",
      "l1_height       0.3183     -inf      inf     None    False 0.3183099*l1_amplitude/max(1.e-15, l1_sigma)     None\n",
      "l1_sigma             1        0      inf     None     True     None     None\n",
      "l2_amplitude         1     -inf      inf     None     True     None     None\n",
      "l2_center           21     -inf      inf     None     True     None     None\n",
      "l2_fwhm              2     -inf      inf     None    False 2.0000000*l2_sigma     None\n",
      "l2_height       0.3183     -inf      inf     None    False 0.3183099*l2_amplitude/max(1.e-15, l2_sigma)     None\n",
      "l2_sigma             1        0      inf     None     True     None     None\n",
      "l3_amplitude         1     -inf      inf     None    False l1_amplitude     None\n",
      "l3_center           28     -inf      inf     None     True     None     None\n",
      "l3_fwhm              2     -inf      inf     None    False 2.0000000*l3_sigma     None\n",
      "l3_height       0.3183     -inf      inf     None    False 0.3183099*l3_amplitude/max(1.e-15, l3_sigma)     None\n",
      "l3_sigma             1        0      inf     None    False l1_sigma     None\n",
      "l4_amplitude         1     -inf      inf     None    False l0_amplitude     None\n",
      "l4_center           36     -inf      inf     None     True     None     None\n",
      "l4_fwhm              2     -inf      inf     None    False 2.0000000*l4_sigma     None\n",
      "l4_height       0.3183     -inf      inf     None    False 0.3183099*l4_amplitude/max(1.e-15, l4_sigma)     None\n",
      "l4_sigma             1        0      inf     None    False l0_sigma     None\n",
      "l5_amplitude         1     -inf      inf     None     True     None     None\n",
      "l5_center           47     -inf      inf     None     True     None     None\n",
      "l5_fwhm              2     -inf      inf     None    False 2.0000000*l5_sigma     None\n",
      "l5_height       0.3183     -inf      inf     None    False 0.3183099*l5_amplitude/max(1.e-15, l5_sigma)     None\n",
      "l5_sigma             1        0      inf     None     True     None     None\n",
      "l6_amplitude         1     -inf      inf     None     True     None     None\n",
      "l6_center           55     -inf      inf     None     True     None     None\n",
      "l6_fwhm              2     -inf      inf     None    False 2.0000000*l6_sigma     None\n",
      "l6_height       0.3183     -inf      inf     None    False 0.3183099*l6_amplitude/max(1.e-15, l6_sigma)     None\n",
      "l6_sigma             1        0      inf     None     True     None     None\n"
     ]
    }
   ],
   "source": [
    "fit.params.pretty_print()"
   ]
  },
  {
   "cell_type": "code",
   "execution_count": 11,
   "metadata": {},
   "outputs": [],
   "source": [
    "fit.set_params_vary([0, 6], ['sigma'], vary=False)"
   ]
  },
  {
   "cell_type": "code",
   "execution_count": 12,
   "metadata": {},
   "outputs": [
    {
     "name": "stdout",
     "output_type": "stream",
     "text": [
      "Name             Value      Min      Max   Stderr     Vary     Expr Brute_Step\n",
      "l0_amplitude         1     -inf      inf     None     True     None     None\n",
      "l0_center            7     -inf      inf     None     True     None     None\n",
      "l0_fwhm              2     -inf      inf     None    False 2.0000000*l0_sigma     None\n",
      "l0_height       0.3183     -inf      inf     None    False 0.3183099*l0_amplitude/max(1.e-15, l0_sigma)     None\n",
      "l0_sigma             1        0      inf     None    False     None     None\n",
      "l1_amplitude         1     -inf      inf     None     True     None     None\n",
      "l1_center           15     -inf      inf     None     True     None     None\n",
      "l1_fwhm              2     -inf      inf     None    False 2.0000000*l1_sigma     None\n",
      "l1_height       0.3183     -inf      inf     None    False 0.3183099*l1_amplitude/max(1.e-15, l1_sigma)     None\n",
      "l1_sigma             1        0      inf     None     True     None     None\n",
      "l2_amplitude         1     -inf      inf     None     True     None     None\n",
      "l2_center           21     -inf      inf     None     True     None     None\n",
      "l2_fwhm              2     -inf      inf     None    False 2.0000000*l2_sigma     None\n",
      "l2_height       0.3183     -inf      inf     None    False 0.3183099*l2_amplitude/max(1.e-15, l2_sigma)     None\n",
      "l2_sigma             1        0      inf     None     True     None     None\n",
      "l3_amplitude         1     -inf      inf     None    False l1_amplitude     None\n",
      "l3_center           28     -inf      inf     None     True     None     None\n",
      "l3_fwhm              2     -inf      inf     None    False 2.0000000*l3_sigma     None\n",
      "l3_height       0.3183     -inf      inf     None    False 0.3183099*l3_amplitude/max(1.e-15, l3_sigma)     None\n",
      "l3_sigma             1        0      inf     None    False l1_sigma     None\n",
      "l4_amplitude         1     -inf      inf     None    False l0_amplitude     None\n",
      "l4_center           36     -inf      inf     None     True     None     None\n",
      "l4_fwhm              2     -inf      inf     None    False 2.0000000*l4_sigma     None\n",
      "l4_height       0.3183     -inf      inf     None    False 0.3183099*l4_amplitude/max(1.e-15, l4_sigma)     None\n",
      "l4_sigma             1        0      inf     None    False l0_sigma     None\n",
      "l5_amplitude         1     -inf      inf     None     True     None     None\n",
      "l5_center           47     -inf      inf     None     True     None     None\n",
      "l5_fwhm              2     -inf      inf     None    False 2.0000000*l5_sigma     None\n",
      "l5_height       0.3183     -inf      inf     None    False 0.3183099*l5_amplitude/max(1.e-15, l5_sigma)     None\n",
      "l5_sigma             1        0      inf     None     True     None     None\n",
      "l6_amplitude         1     -inf      inf     None     True     None     None\n",
      "l6_center           55     -inf      inf     None     True     None     None\n",
      "l6_fwhm              2     -inf      inf     None    False 2.0000000*l6_sigma     None\n",
      "l6_height       0.3183     -inf      inf     None    False 0.3183099*l6_amplitude/max(1.e-15, l6_sigma)     None\n",
      "l6_sigma             1        0      inf     None    False     None     None\n"
     ]
    }
   ],
   "source": [
    "fit.params.pretty_print()"
   ]
  },
  {
   "cell_type": "code",
   "execution_count": null,
   "metadata": {},
   "outputs": [],
   "source": [
    "fit.fit(processor.x, processor.y)"
   ]
  },
  {
   "cell_type": "code",
   "execution_count": null,
   "metadata": {},
   "outputs": [],
   "source": [
    "fit.result.params.pretty_print()"
   ]
  },
  {
   "cell_type": "code",
   "execution_count": null,
   "metadata": {
    "scrolled": true
   },
   "outputs": [],
   "source": [
    "fit.plot(show_init=True)"
   ]
  },
  {
   "cell_type": "code",
   "execution_count": null,
   "metadata": {},
   "outputs": [],
   "source": [
    "fit.plot_evalcomponents()"
   ]
  },
  {
   "cell_type": "code",
   "execution_count": null,
   "metadata": {},
   "outputs": [],
   "source": [
    "fit.result.eval_components()"
   ]
  },
  {
   "cell_type": "code",
   "execution_count": null,
   "metadata": {},
   "outputs": [],
   "source": [
    "fit.result.userkws['x']"
   ]
  },
  {
   "cell_type": "code",
   "execution_count": null,
   "metadata": {},
   "outputs": [],
   "source": []
  }
 ],
 "metadata": {
  "kernelspec": {
   "display_name": "Python 3",
   "language": "python",
   "name": "python3"
  },
  "language_info": {
   "codemirror_mode": {
    "name": "ipython",
    "version": 3
   },
   "file_extension": ".py",
   "mimetype": "text/x-python",
   "name": "python",
   "nbconvert_exporter": "python",
   "pygments_lexer": "ipython3",
   "version": "3.6.6"
  }
 },
 "nbformat": 4,
 "nbformat_minor": 2
}
