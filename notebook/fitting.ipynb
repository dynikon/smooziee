{
 "cells": [
  {
   "cell_type": "code",
   "execution_count": 30,
   "metadata": {},
   "outputs": [],
   "source": [
    "##### setting\n",
    "### set filename you want to analysis\n",
    "filepath = None\n",
    "\n",
    "if filepath == None:\n",
    "    import os\n",
    "    import smooziee\n",
    "    filepath = os.path.join(os.path.dirname(smooziee.__file__), 'data', 'PbTe_sq_GX711_p0p25_RT_4')\n",
    "    \n",
    "filename = os.path.basename(filepath)\n"
   ]
  },
  {
   "cell_type": "code",
   "execution_count": 31,
   "metadata": {},
   "outputs": [],
   "source": [
    "##### import\n",
    "# from smooziee.smooziee.fitting import Fitting\n",
    "# from smooziee.smooziee.peak_search import PeakSearch\n",
    "from smooziee.smooziee import fitting\n",
    "from smooziee.smooziee import peak_search\n",
    "import imp\n",
    "imp.reload(fitting)\n",
    "imp.reload(peak_search)\n",
    "import pandas as pd\n",
    "import numpy as np\n",
    "import matplotlib.pyplot as plt\n",
    "import lmfit\n"
   ]
  },
  {
   "cell_type": "code",
   "execution_count": 32,
   "metadata": {},
   "outputs": [
    {
     "name": "stdout",
     "output_type": "stream",
     "text": [
      "(73,)\n",
      "(73,)\n",
      "[7, 15, 21, 28, 36, 47, 55]\n",
      "[[7, 36], [15, 28]]\n"
     ]
    }
   ],
   "source": [
    "import pickle\n",
    "with open('pksearch.pickle', 'rb') as f:\n",
    "    processor = pickle.load(f) \n",
    "\n",
    "print(processor.x.shape)\n",
    "print(processor.y.shape)\n",
    "print(processor.ix_peaks)\n",
    "print(processor.ix_peak_pairs)"
   ]
  },
  {
   "cell_type": "code",
   "execution_count": 33,
   "metadata": {},
   "outputs": [
    {
     "name": "stdout",
     "output_type": "stream",
     "text": [
      "Name             Value      Min      Max   Stderr     Vary     Expr Brute_Step\n",
      "l0_amplitude         1     -inf      inf     None     True     None     None\n",
      "l0_center            0     -inf      inf     None     True     None     None\n",
      "l0_fwhm              2     -inf      inf     None    False 2.0000000*l0_sigma     None\n",
      "l0_height       0.3183     -inf      inf     None    False 0.3183099*l0_amplitude/max(1.e-15, l0_sigma)     None\n",
      "l0_sigma             1        0      inf     None     True     None     None\n",
      "l1_amplitude         1     -inf      inf     None     True     None     None\n",
      "l1_center            0     -inf      inf     None     True     None     None\n",
      "l1_fwhm              2     -inf      inf     None    False 2.0000000*l1_sigma     None\n",
      "l1_height       0.3183     -inf      inf     None    False 0.3183099*l1_amplitude/max(1.e-15, l1_sigma)     None\n",
      "l1_sigma             1        0      inf     None     True     None     None\n",
      "l2_amplitude         1     -inf      inf     None     True     None     None\n",
      "l2_center            0     -inf      inf     None     True     None     None\n",
      "l2_fwhm              2     -inf      inf     None    False 2.0000000*l2_sigma     None\n",
      "l2_height       0.3183     -inf      inf     None    False 0.3183099*l2_amplitude/max(1.e-15, l2_sigma)     None\n",
      "l2_sigma             1        0      inf     None     True     None     None\n",
      "l3_amplitude         1     -inf      inf     None     True     None     None\n",
      "l3_center            0     -inf      inf     None     True     None     None\n",
      "l3_fwhm              2     -inf      inf     None    False 2.0000000*l3_sigma     None\n",
      "l3_height       0.3183     -inf      inf     None    False 0.3183099*l3_amplitude/max(1.e-15, l3_sigma)     None\n",
      "l3_sigma             1        0      inf     None     True     None     None\n",
      "l4_amplitude         1     -inf      inf     None     True     None     None\n",
      "l4_center            0     -inf      inf     None     True     None     None\n",
      "l4_fwhm              2     -inf      inf     None    False 2.0000000*l4_sigma     None\n",
      "l4_height       0.3183     -inf      inf     None    False 0.3183099*l4_amplitude/max(1.e-15, l4_sigma)     None\n",
      "l4_sigma             1        0      inf     None     True     None     None\n",
      "l5_amplitude         1     -inf      inf     None     True     None     None\n",
      "l5_center            0     -inf      inf     None     True     None     None\n",
      "l5_fwhm              2     -inf      inf     None    False 2.0000000*l5_sigma     None\n",
      "l5_height       0.3183     -inf      inf     None    False 0.3183099*l5_amplitude/max(1.e-15, l5_sigma)     None\n",
      "l5_sigma             1        0      inf     None     True     None     None\n",
      "l6_amplitude         1     -inf      inf     None     True     None     None\n",
      "l6_center            0     -inf      inf     None     True     None     None\n",
      "l6_fwhm              2     -inf      inf     None    False 2.0000000*l6_sigma     None\n",
      "l6_height       0.3183     -inf      inf     None    False 0.3183099*l6_amplitude/max(1.e-15, l6_sigma)     None\n",
      "l6_sigma             1        0      inf     None     True     None     None\n"
     ]
    }
   ],
   "source": [
    "fit = fitting.Fitting(['lorentzian' for i in range(len(processor.ix_peaks))])\n",
    "fit.params.pretty_print()"
   ]
  },
  {
   "cell_type": "code",
   "execution_count": 43,
   "metadata": {},
   "outputs": [],
   "source": [
    "fit.set_params_expr(processor.ix_peaks, processor.ix_peak_pairs, param_names=['sigma', 'amplitude'])"
   ]
  },
  {
   "cell_type": "code",
   "execution_count": 44,
   "metadata": {},
   "outputs": [
    {
     "name": "stdout",
     "output_type": "stream",
     "text": [
      "Name             Value      Min      Max   Stderr     Vary     Expr Brute_Step\n",
      "l0_amplitude         1     -inf      inf     None     True     None     None\n",
      "l0_center            0     -inf      inf     None     True     None     None\n",
      "l0_fwhm              2     -inf      inf     None    False 2.0000000*l0_sigma     None\n",
      "l0_height       0.3183     -inf      inf     None    False 0.3183099*l0_amplitude/max(1.e-15, l0_sigma)     None\n",
      "l0_sigma             1        0      inf     None    False     None     None\n",
      "l1_amplitude         1     -inf      inf     None     True     None     None\n",
      "l1_center            0     -inf      inf     None     True     None     None\n",
      "l1_fwhm              2     -inf      inf     None    False 2.0000000*l1_sigma     None\n",
      "l1_height       0.3183     -inf      inf     None    False 0.3183099*l1_amplitude/max(1.e-15, l1_sigma)     None\n",
      "l1_sigma             1        0      inf     None     True     None     None\n",
      "l2_amplitude         1     -inf      inf     None     True     None     None\n",
      "l2_center            0     -inf      inf     None     True     None     None\n",
      "l2_fwhm              2     -inf      inf     None    False 2.0000000*l2_sigma     None\n",
      "l2_height       0.3183     -inf      inf     None    False 0.3183099*l2_amplitude/max(1.e-15, l2_sigma)     None\n",
      "l2_sigma             1        0      inf     None     True     None     None\n",
      "l3_amplitude         1     -inf      inf     None    False l1_amplitude     None\n",
      "l3_center            0     -inf      inf     None     True     None     None\n",
      "l3_fwhm              2     -inf      inf     None    False 2.0000000*l3_sigma     None\n",
      "l3_height       0.3183     -inf      inf     None    False 0.3183099*l3_amplitude/max(1.e-15, l3_sigma)     None\n",
      "l3_sigma             1        0      inf     None    False l1_sigma     None\n",
      "l4_amplitude         1     -inf      inf     None    False l0_amplitude     None\n",
      "l4_center            0     -inf      inf     None     True     None     None\n",
      "l4_fwhm              2     -inf      inf     None    False 2.0000000*l4_sigma     None\n",
      "l4_height       0.3183     -inf      inf     None    False 0.3183099*l4_amplitude/max(1.e-15, l4_sigma)     None\n",
      "l4_sigma             1        0      inf     None    False l0_sigma     None\n",
      "l5_amplitude         1     -inf      inf     None     True     None     None\n",
      "l5_center            0     -inf      inf     None     True     None     None\n",
      "l5_fwhm              2     -inf      inf     None    False 2.0000000*l5_sigma     None\n",
      "l5_height       0.3183     -inf      inf     None    False 0.3183099*l5_amplitude/max(1.e-15, l5_sigma)     None\n",
      "l5_sigma             1        0      inf     None     True     None     None\n",
      "l6_amplitude         1     -inf      inf     None     True     None     None\n",
      "l6_center            0     -inf      inf     None     True     None     None\n",
      "l6_fwhm              2     -inf      inf     None    False 2.0000000*l6_sigma     None\n",
      "l6_height       0.3183     -inf      inf     None    False 0.3183099*l6_amplitude/max(1.e-15, l6_sigma)     None\n",
      "l6_sigma             1        0      inf     None    False     None     None\n"
     ]
    }
   ],
   "source": [
    "fit.params.pretty_print()"
   ]
  },
  {
   "cell_type": "code",
   "execution_count": 45,
   "metadata": {},
   "outputs": [],
   "source": [
    "fit.set_params_vary([0, 6], ['sigma'], vary=False)"
   ]
  },
  {
   "cell_type": "code",
   "execution_count": 46,
   "metadata": {},
   "outputs": [
    {
     "name": "stdout",
     "output_type": "stream",
     "text": [
      "Name             Value      Min      Max   Stderr     Vary     Expr Brute_Step\n",
      "l0_amplitude         1     -inf      inf     None     True     None     None\n",
      "l0_center            0     -inf      inf     None     True     None     None\n",
      "l0_fwhm              2     -inf      inf     None    False 2.0000000*l0_sigma     None\n",
      "l0_height       0.3183     -inf      inf     None    False 0.3183099*l0_amplitude/max(1.e-15, l0_sigma)     None\n",
      "l0_sigma             1        0      inf     None    False     None     None\n",
      "l1_amplitude         1     -inf      inf     None     True     None     None\n",
      "l1_center            0     -inf      inf     None     True     None     None\n",
      "l1_fwhm              2     -inf      inf     None    False 2.0000000*l1_sigma     None\n",
      "l1_height       0.3183     -inf      inf     None    False 0.3183099*l1_amplitude/max(1.e-15, l1_sigma)     None\n",
      "l1_sigma             1        0      inf     None     True     None     None\n",
      "l2_amplitude         1     -inf      inf     None     True     None     None\n",
      "l2_center            0     -inf      inf     None     True     None     None\n",
      "l2_fwhm              2     -inf      inf     None    False 2.0000000*l2_sigma     None\n",
      "l2_height       0.3183     -inf      inf     None    False 0.3183099*l2_amplitude/max(1.e-15, l2_sigma)     None\n",
      "l2_sigma             1        0      inf     None     True     None     None\n",
      "l3_amplitude         1     -inf      inf     None    False l1_amplitude     None\n",
      "l3_center            0     -inf      inf     None     True     None     None\n",
      "l3_fwhm              2     -inf      inf     None    False 2.0000000*l3_sigma     None\n",
      "l3_height       0.3183     -inf      inf     None    False 0.3183099*l3_amplitude/max(1.e-15, l3_sigma)     None\n",
      "l3_sigma             1        0      inf     None    False l1_sigma     None\n",
      "l4_amplitude         1     -inf      inf     None    False l0_amplitude     None\n",
      "l4_center            0     -inf      inf     None     True     None     None\n",
      "l4_fwhm              2     -inf      inf     None    False 2.0000000*l4_sigma     None\n",
      "l4_height       0.3183     -inf      inf     None    False 0.3183099*l4_amplitude/max(1.e-15, l4_sigma)     None\n",
      "l4_sigma             1        0      inf     None    False l0_sigma     None\n",
      "l5_amplitude         1     -inf      inf     None     True     None     None\n",
      "l5_center            0     -inf      inf     None     True     None     None\n",
      "l5_fwhm              2     -inf      inf     None    False 2.0000000*l5_sigma     None\n",
      "l5_height       0.3183     -inf      inf     None    False 0.3183099*l5_amplitude/max(1.e-15, l5_sigma)     None\n",
      "l5_sigma             1        0      inf     None     True     None     None\n",
      "l6_amplitude         1     -inf      inf     None     True     None     None\n",
      "l6_center            0     -inf      inf     None     True     None     None\n",
      "l6_fwhm              2     -inf      inf     None    False 2.0000000*l6_sigma     None\n",
      "l6_height       0.3183     -inf      inf     None    False 0.3183099*l6_amplitude/max(1.e-15, l6_sigma)     None\n",
      "l6_sigma             1        0      inf     None    False     None     None\n"
     ]
    }
   ],
   "source": [
    "fit.params.pretty_print()"
   ]
  },
  {
   "cell_type": "code",
   "execution_count": 47,
   "metadata": {},
   "outputs": [],
   "source": [
    "fit.fit(processor.x, processor.y)"
   ]
  },
  {
   "cell_type": "code",
   "execution_count": 49,
   "metadata": {
    "scrolled": true
   },
   "outputs": [
    {
     "data": {
      "image/png": "[encoded data removed]",
      "text/plain": [
       "<matplotlib.figure.Figure at 0x7f960b989be0>"
      ]
     },
     "metadata": {},
     "output_type": "display_data"
    }
   ],
   "source": [
    "fit.plot(show_init=True)"
   ]
  },
  {
   "cell_type": "code",
   "execution_count": 40,
   "metadata": {},
   "outputs": [
    {
     "data": {
      "text/plain": [
       "OrderedDict([('l0_',\n",
       "              array([-0.0017207 , -0.00171066, -0.0017007 , -0.00169083, -0.00168104,\n",
       "                     -0.00167134, -0.00166173, -0.00165219, -0.00164274, -0.00163337,\n",
       "                     -0.00162408, -0.00161486, -0.00160573, -0.00159667, -0.00158769,\n",
       "                     -0.00157879, -0.00156996, -0.0015612 , -0.00155252, -0.0015439 ,\n",
       "                     -0.00153536, -0.0015269 , -0.0015185 , -0.00151017, -0.0015019 ,\n",
       "                     -0.00149371, -0.00148558, -0.00147752, -0.00146953, -0.00146159,\n",
       "                     -0.00145373, -0.00144592, -0.00143818, -0.0014305 , -0.00142289,\n",
       "                     -0.00141533, -0.00140783, -0.0014004 , -0.00139302, -0.0013857 ,\n",
       "                     -0.00137843, -0.00137123, -0.00136408, -0.00135698, -0.00134995,\n",
       "                     -0.00134296, -0.00133603, -0.00132915, -0.00132233, -0.00131556,\n",
       "                     -0.00130884, -0.00130217, -0.00129556, -0.00128899, -0.00128247,\n",
       "                     -0.001276  , -0.00126959, -0.00126321, -0.00125689, -0.00125062,\n",
       "                     -0.00124439, -0.00123821, -0.00123207, -0.00122598, -0.00121993,\n",
       "                     -0.00121393, -0.00120798, -0.00120206, -0.00119619, -0.00119037,\n",
       "                     -0.00118458, -0.00117884, -0.00117314])),\n",
       "             ('l1_',\n",
       "              array([ 0.02297645,  0.02292167,  0.02286691,  0.02281217,  0.02275746,\n",
       "                      0.02270278,  0.02264812,  0.02259349,  0.02253889,  0.02248433,\n",
       "                      0.02242979,  0.0223753 ,  0.02232083,  0.02226641,  0.02221202,\n",
       "                      0.02215768,  0.02210338,  0.02204912,  0.0219949 ,  0.02194073,\n",
       "                      0.02188661,  0.02183253,  0.02177851,  0.02172453,  0.02167061,\n",
       "                      0.02161674,  0.02156293,  0.02150917,  0.02145546,  0.02140182,\n",
       "                      0.02134823,  0.02129471,  0.02124124,  0.02118784,  0.0211345 ,\n",
       "                      0.02108123,  0.02102802,  0.02097488,  0.02092181,  0.0208688 ,\n",
       "                      0.02081586,  0.020763  ,  0.0207102 ,  0.02065748,  0.02060484,\n",
       "                      0.02055226,  0.02049976,  0.02044734,  0.020395  ,  0.02034273,\n",
       "                      0.02029054,  0.02023843,  0.02018641,  0.02013446,  0.0200826 ,\n",
       "                      0.02003081,  0.01997912,  0.0199275 ,  0.01987598,  0.01982453,\n",
       "                      0.01977318,  0.01972191,  0.01967073,  0.01961964,  0.01956864,\n",
       "                      0.01951772,  0.0194669 ,  0.01941617,  0.01936554,  0.01931499,\n",
       "                      0.01926454,  0.01921418,  0.01916392])),\n",
       "             ('l2_',\n",
       "              array([  3.82429211e-02,   5.22630411e-02,   7.50747069e-02,\n",
       "                       1.14851635e-01,   1.88877392e-01,   3.24387854e-01,\n",
       "                       4.82682813e-01,   4.42181815e-01,   2.73822016e-01,\n",
       "                       1.60173339e-01,   9.96492335e-02,   6.65429022e-02,\n",
       "                       4.71223948e-02,   3.49460947e-02,   2.68742043e-02,\n",
       "                       2.12738609e-02,   1.72406614e-02,   1.42451111e-02,\n",
       "                       1.19620995e-02,   1.01837201e-02,   8.77229492e-03,\n",
       "                       7.63386152e-03,   6.70258876e-03,   5.93128248e-03,\n",
       "                       5.28541636e-03,   4.73927270e-03,   4.27338445e-03,\n",
       "                       3.87280143e-03,   3.52589157e-03,   3.22349661e-03,\n",
       "                       2.95832785e-03,   2.72452696e-03,   2.51734246e-03,\n",
       "                       2.33288829e-03,   2.16796157e-03,   2.01990363e-03,\n",
       "                       1.88649277e-03,   1.76586097e-03,   1.65642845e-03,\n",
       "                       1.55685200e-03,   1.46598371e-03,   1.38283789e-03,\n",
       "                       1.30656436e-03,   1.23642673e-03,   1.17178454e-03,\n",
       "                       1.11207875e-03,   1.05681958e-03,   1.00557646e-03,\n",
       "                       9.57969700e-04,   9.13663400e-04,   8.72359550e-04,\n",
       "                       8.33793013e-04,   7.97727273e-04,   7.63950802e-04,\n",
       "                       7.32273965e-04,   7.02526354e-04,   6.74554497e-04,\n",
       "                       6.48219878e-04,   6.23397226e-04,   5.99973017e-04,\n",
       "                       5.77844184e-04,   5.56916979e-04,   5.37105981e-04,\n",
       "                       5.18333224e-04,   5.00527430e-04,   4.83623333e-04,\n",
       "                       4.67561080e-04,   4.52285701e-04,   4.37746641e-04,\n",
       "                       4.23897339e-04,   4.10694854e-04,   3.98099536e-04,\n",
       "                       3.86074728e-04])),\n",
       "             ('l3_',\n",
       "              array([ -1.25290969e-05,  -1.08183904e-05,  -9.43554886e-06,\n",
       "                      -8.30184426e-06,  -7.36083500e-06,  -6.57120262e-06,\n",
       "                      -5.90213754e-06,  -5.33028750e-06,  -4.83769195e-06,\n",
       "                      -4.41035436e-06,  -4.03723690e-06,  -3.70954043e-06,\n",
       "                      -3.42018099e-06,  -3.16340365e-06,  -2.93449420e-06,\n",
       "                      -2.72956118e-06,  -2.54536940e-06,  -2.37921150e-06,\n",
       "                      -2.22880785e-06,  -2.09222796e-06,  -1.96782825e-06,\n",
       "                      -1.85420231e-06,  -1.75014103e-06,  -1.65460028e-06,\n",
       "                      -1.56667462e-06,  -1.48557575e-06,  -1.41061481e-06,\n",
       "                      -1.34118766e-06,  -1.27676273e-06,  -1.21687076e-06,\n",
       "                      -1.16109627e-06,  -1.10907029e-06,  -1.06046430e-06,\n",
       "                      -1.01498496e-06,  -9.72369766e-07,  -9.32383156e-07,\n",
       "                      -8.94813315e-07,  -8.59469339e-07,  -8.26178805e-07,\n",
       "                      -7.94785670e-07,  -7.65148438e-07,  -7.37138558e-07,\n",
       "                      -7.10639033e-07,  -6.85543195e-07,  -6.61753627e-07,\n",
       "                      -6.39181222e-07,  -6.17744339e-07,  -5.97368073e-07,\n",
       "                      -5.77983592e-07,  -5.59527562e-07,  -5.41941622e-07,\n",
       "                      -5.25171927e-07,  -5.09168733e-07,  -4.93886029e-07,\n",
       "                      -4.79281204e-07,  -4.65314754e-07,  -4.51950009e-07,\n",
       "                      -4.39152894e-07,  -4.26891715e-07,  -4.15136957e-07,\n",
       "                      -4.03861112e-07,  -3.93038511e-07,  -3.82645186e-07,\n",
       "                      -3.72658730e-07,  -3.63058179e-07,  -3.53823904e-07,\n",
       "                      -3.44937507e-07,  -3.36381730e-07,  -3.28140374e-07,\n",
       "                      -3.20198220e-07,  -3.12540956e-07,  -3.05155119e-07,\n",
       "                      -2.98028031e-07])),\n",
       "             ('l4_',\n",
       "              array([ 0.38394483,  0.397223  ,  0.41100099,  0.42528569,  0.44008141,\n",
       "                      0.45538938,  0.47120714,  0.48752787,  0.50433973,  0.521625  ,\n",
       "                      0.53935937,  0.55751097,  0.57603959,  0.59489576,  0.61401994,\n",
       "                      0.63334179,  0.65277951,  0.67223943,  0.6916158 ,  0.71079087,\n",
       "                      0.7296354 ,  0.74800953,  0.76576419,  0.78274298,  0.7987846 ,\n",
       "                      0.8137258 ,  0.82740477,  0.83966493,  0.85035889,  0.85935257,\n",
       "                      0.86652916,  0.87179274,  0.87507142,  0.87631977,  0.87552035,\n",
       "                      0.87268434,  0.86785112,  0.86108697,  0.85248276,  0.84215102,\n",
       "                      0.83022238,  0.81684165,  0.80216373,  0.78634964,  0.7695626 ,\n",
       "                      0.75196462,  0.73371339,  0.71495977,  0.69584579,  0.67650311,\n",
       "                      0.65705205,  0.63760101,  0.61824632,  0.59907234,  0.58015188,\n",
       "                      0.5615468 ,  0.54330869,  0.52547975,  0.50809358,  0.49117609,\n",
       "                      0.47474636,  0.45881747,  0.44339726,  0.4284891 ,  0.41409252,\n",
       "                      0.40020382,  0.38681666,  0.37392246,  0.3615109 ,  0.34957026,\n",
       "                      0.33808775,  0.32704977,  0.31644217])),\n",
       "             ('l5_',\n",
       "              array([-0.23171275, -0.23324538, -0.2347877 , -0.23633968, -0.23790131,\n",
       "                     -0.23947256, -0.2410534 , -0.2426438 , -0.24424372, -0.24585313,\n",
       "                     -0.24747197, -0.2491002 , -0.25073777, -0.25238462, -0.25404069,\n",
       "                     -0.25570592, -0.25738025, -0.25906358, -0.26075586, -0.26245699,\n",
       "                     -0.26416689, -0.26588547, -0.26761262, -0.26934824, -0.27109223,\n",
       "                     -0.27284447, -0.27460484, -0.27637322, -0.27814947, -0.27993346,\n",
       "                     -0.28172504, -0.28352406, -0.28533037, -0.28714381, -0.28896421,\n",
       "                     -0.29079138, -0.29262515, -0.29446533, -0.29631172, -0.29816412,\n",
       "                     -0.30002232, -0.30188609, -0.30375522, -0.30562947, -0.3075086 ,\n",
       "                     -0.30939236, -0.31128049, -0.31317273, -0.31506881, -0.31696844,\n",
       "                     -0.31887134, -0.32077721, -0.32268575, -0.32459664, -0.32650955,\n",
       "                     -0.32842417, -0.33034015, -0.33225714, -0.33417478, -0.33609272,\n",
       "                     -0.33801057, -0.33992796, -0.3418445 , -0.34375979, -0.34567341,\n",
       "                     -0.34758496, -0.34949401, -0.35140012, -0.35330286, -0.35520178,\n",
       "                     -0.35709641, -0.35898629, -0.36087096])),\n",
       "             ('l6_',\n",
       "              array([ 0.00068599,  0.00069067,  0.0006954 ,  0.00070017,  0.000705  ,\n",
       "                      0.00070987,  0.0007148 ,  0.00071978,  0.00072481,  0.00072989,\n",
       "                      0.00073502,  0.00074021,  0.00074546,  0.00075076,  0.00075612,\n",
       "                      0.00076153,  0.00076701,  0.00077254,  0.00077813,  0.00078379,\n",
       "                      0.0007895 ,  0.00079528,  0.00080112,  0.00080703,  0.000813  ,\n",
       "                      0.00081904,  0.00082515,  0.00083133,  0.00083757,  0.00084389,\n",
       "                      0.00085027,  0.00085673,  0.00086327,  0.00086988,  0.00087656,\n",
       "                      0.00088332,  0.00089016,  0.00089709,  0.00090409,  0.00091117,\n",
       "                      0.00091834,  0.00092559,  0.00093293,  0.00094036,  0.00094787,\n",
       "                      0.00095548,  0.00096318,  0.00097097,  0.00097885,  0.00098684,\n",
       "                      0.00099492,  0.0010031 ,  0.00101138,  0.00101976,  0.00102825,\n",
       "                      0.00103685,  0.00104555,  0.00105437,  0.00106329,  0.00107233,\n",
       "                      0.00108149,  0.00109076,  0.00110016,  0.00110967,  0.00111931,\n",
       "                      0.00112908,  0.00113897,  0.00114899,  0.00115915,  0.00116944,\n",
       "                      0.00117987,  0.00119044,  0.00120116]))])"
      ]
     },
     "execution_count": 40,
     "metadata": {},
     "output_type": "execute_result"
    }
   ],
   "source": [
    "fit.result.eval_components()"
   ]
  },
  {
   "cell_type": "code",
   "execution_count": null,
   "metadata": {},
   "outputs": [],
   "source": []
  },
  {
   "cell_type": "code",
   "execution_count": null,
   "metadata": {},
   "outputs": [],
   "source": []
  }
 ],
 "metadata": {
  "kernelspec": {
   "display_name": "Python 3",
   "language": "python",
   "name": "python3"
  },
  "language_info": {
   "codemirror_mode": {
    "name": "ipython",
    "version": 3
   },
   "file_extension": ".py",
   "mimetype": "text/x-python",
   "name": "python",
   "nbconvert_exporter": "python",
   "pygments_lexer": "ipython3",
   "version": "3.6.4"
  }
 },
 "nbformat": 4,
 "nbformat_minor": 2
}
