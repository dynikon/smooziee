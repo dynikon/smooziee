{
 "cells": [
  {
   "cell_type": "code",
   "execution_count": 30,
   "metadata": {},
   "outputs": [],
   "source": [
    "##### setting\n",
    "### set filename you want to analysis\n",
    "filepath = None\n",
    "\n",
    "if filepath == None:\n",
    "    import os\n",
    "    import smooziee\n",
    "    filepath = os.path.join(os.path.dirname(smooziee.__file__), 'data', 'PbTe_sq_GX711_p0p25_RT_4')\n",
    "    \n",
    "filename = os.path.basename(filepath)"
   ]
  },
  {
   "cell_type": "code",
   "execution_count": 31,
   "metadata": {},
   "outputs": [],
   "source": [
    "##### import\n",
    "# import smooziee.module.fitting as sm_fit\n",
    "import imp\n",
    "import lmfit\n",
    "from lmfit import Model\n",
    "# imp.reload(sm_fit)\n",
    "import pandas as pd\n",
    "import numpy as np\n",
    "import matplotlib.pyplot as plt\n",
    "# from smooziee.module import function\n",
    "# from smooziee.module import function_test\n",
    "\n",
    "##### read data from filename\n",
    "data_df = pd.read_csv(filepath, sep='\\s+')\n",
    "x_arr = np.array(data_df.meV)\n",
    "y_arr = np.array(data_df.y_unitpk)"
   ]
  },
  {
   "cell_type": "code",
   "execution_count": 55,
   "metadata": {},
   "outputs": [],
   "source": [
    "from numpy import exp, sin\n",
    "from lmfit import minimize, Parameters\n",
    "def residual(params, x, data):\n",
    "    amp = params['amp']\n",
    "    phaseshift = params['phase']\n",
    "    freq = params['frequency']\n",
    "    decay = params['decay']\n",
    "   # model = amp * sin(x*freq + phaseshift) * exp(-x*x*decay)\n",
    "    model = amp + sin(x*freq + phaseshift) * exp(-x*x*decay)\n",
    "    # return (data-model)\n",
    "    return data-model\n",
    "\n",
    "\n",
    "import lmfit"
   ]
  },
  {
   "cell_type": "code",
   "execution_count": 54,
   "metadata": {},
   "outputs": [],
   "source": [
    "from lmfit.models import LinearModel, LorentzianModel\n",
    "lorentzian = LorentzianModel()"
   ]
  },
  {
   "cell_type": "code",
   "execution_count": 34,
   "metadata": {},
   "outputs": [
    {
     "data": {
      "text/plain": [
       "<function lmfit.lineshapes.lorentzian(x, amplitude=1.0, center=0.0, sigma=1.0)>"
      ]
     },
     "execution_count": 34,
     "metadata": {},
     "output_type": "execute_result"
    }
   ],
   "source": [
    "# lorentzian.func(3, amplitude=3.2)\n",
    "lorentzian.func"
   ]
  },
  {
   "cell_type": "code",
   "execution_count": 35,
   "metadata": {},
   "outputs": [
    {
     "name": "stdout",
     "output_type": "stream",
     "text": [
      "['sigma', 'center', 'amplitude']\n",
      "['x']\n"
     ]
    }
   ],
   "source": [
    "print(lorentzian.param_names)\n",
    "print(lorentzian.independent_vars)"
   ]
  },
  {
   "cell_type": "code",
   "execution_count": 56,
   "metadata": {},
   "outputs": [
    {
     "data": {
      "text/plain": [
       "<lmfit.minimizer.MinimizerResult at 0x1a193da128>"
      ]
     },
     "execution_count": 56,
     "metadata": {},
     "output_type": "execute_result"
    }
   ],
   "source": [
    "params = Parameters()\n",
    "# params.add('amp', value=10, expr='decay')\n",
    "params.add('amp', value=1, vary=False)\n",
    "params.add('decay', value=10, expr='amp')\n",
    "params.add('phase', value=0.2)\n",
    "params.add('frequency', value=3.0)\n",
    "\n",
    "minimize(residual, params, args=(x_arr, y_arr))\n",
    "# type(params)\n",
    "# type(out)\n",
    "# minimize(residual, params, args=(x_arr, y_arr))\n",
    "# print(out.params.valuesdict)\n",
    "# params['amp']\n",
    "# params.valuesdict\n",
    "\n",
    "# params.add('amp', value=5, vary=False)\n",
    "# print(params.valuesdict)\n",
    "# params['amp'].expr"
   ]
  },
  {
   "cell_type": "code",
   "execution_count": 48,
   "metadata": {},
   "outputs": [
    {
     "name": "stdout",
     "output_type": "stream",
     "text": [
      "<class 'function'>\n",
      "<class 'lmfit.parameter.Parameters'>\n",
      "(73,)\n",
      "(73,)\n"
     ]
    }
   ],
   "source": [
    "# print(out.params.valuesdict['amp'])\n",
    "# print(out.params.valuesdict['decay'])\n",
    "# type(out.params[\"decay\"])\n",
    "# out.params['decay'].value\n",
    "# len(params.keys())\n",
    "# hoge = params['phase'].value\n",
    "print(type(residual))\n",
    "print(type(params))\n",
    "print(x_arr.shape)\n",
    "print(y_arr.shape)"
   ]
  },
  {
   "cell_type": "code",
   "execution_count": 38,
   "metadata": {},
   "outputs": [
    {
     "name": "stdout",
     "output_type": "stream",
     "text": [
      "1\n",
      "1\n"
     ]
    }
   ],
   "source": [
    "print(out.params['amp'].value)\n",
    "print(out.params['decay'].value)"
   ]
  },
  {
   "cell_type": "code",
   "execution_count": 39,
   "metadata": {},
   "outputs": [],
   "source": [
    "# y = 5x^2 + 2x^2 + 3x^2\n",
    "def make_function(a,b,c):\n",
    "    def function(x):\n",
    "        y = a * x **2 + b * x + c\n",
    "        return y\n",
    "    return function"
   ]
  },
  {
   "cell_type": "code",
   "execution_count": 14,
   "metadata": {},
   "outputs": [],
   "source": [
    "func = make_function(5,2,3)"
   ]
  },
  {
   "cell_type": "code",
   "execution_count": 15,
   "metadata": {},
   "outputs": [
    {
     "data": {
      "text/plain": [
       "27"
      ]
     },
     "execution_count": 15,
     "metadata": {},
     "output_type": "execute_result"
    }
   ],
   "source": [
    "func(2)"
   ]
  },
  {
   "cell_type": "code",
   "execution_count": null,
   "metadata": {},
   "outputs": [],
   "source": []
  }
 ],
 "metadata": {
  "kernelspec": {
   "display_name": "Python 3",
   "language": "python",
   "name": "python3"
  },
  "language_info": {
   "codemirror_mode": {
    "name": "ipython",
    "version": 3
   },
   "file_extension": ".py",
   "mimetype": "text/x-python",
   "name": "python",
   "nbconvert_exporter": "python",
   "pygments_lexer": "ipython3",
   "version": "3.6.6"
  }
 },
 "nbformat": 4,
 "nbformat_minor": 2
}
