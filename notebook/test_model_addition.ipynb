{
 "cells": [
  {
   "cell_type": "code",
   "execution_count": 18,
   "metadata": {},
   "outputs": [],
   "source": [
    "import os\n",
    "import pandas as pd\n",
    "import smooziee\n",
    "from lmfit import minimize, Parameters\n",
    "from lmfit.models import LinearModel, LorentzianModel, GaussianModel\n",
    "\n",
    "filepath = os.path.join(os.path.dirname(smooziee.__file__), 'data', 'PbTe_sq_GX711_p0p25_RT_4')\n",
    "filename = os.path.basename(filepath)\n",
    "\n",
    "data_df = pd.read_csv(filepath, sep='\\s+')\n",
    "x_arr = np.array(data_df.meV)\n",
    "y_arr = np.array(data_df.y_unitpk)"
   ]
  },
  {
   "cell_type": "code",
   "execution_count": 46,
   "metadata": {},
   "outputs": [
    {
     "data": {
      "text/plain": [
       "0.24197072451914337"
      ]
     },
     "execution_count": 46,
     "metadata": {},
     "output_type": "execute_result"
    }
   ],
   "source": [
    "model = GaussianModel()\n",
    "model.func(1, amplitude=Parameters().add('amplitude', value=1), center=0, sigma=1)\n",
    "# model.func(1, amplitude=1, center=0, sigma=1)"
   ]
  },
  {
   "cell_type": "code",
   "execution_count": 34,
   "metadata": {},
   "outputs": [
    {
     "data": {
      "text/plain": [
       "0.48394144903828673"
      ]
     },
     "execution_count": 34,
     "metadata": {},
     "output_type": "execute_result"
    }
   ],
   "source": [
    "from lmfit.lineshapes import lorentzian, gaussian\n",
    "\n",
    "gaussian(1, amplitude=2)\n"
   ]
  },
  {
   "cell_type": "code",
   "execution_count": 35,
   "metadata": {},
   "outputs": [
    {
     "data": {
      "text/plain": [
       "<function lmfit.lineshapes.lorentzian>"
      ]
     },
     "execution_count": 35,
     "metadata": {},
     "output_type": "execute_result"
    }
   ],
   "source": [
    "getattr(lmfit.lineshapes, \"lorentzian\")"
   ]
  },
  {
   "cell_type": "code",
   "execution_count": 38,
   "metadata": {},
   "outputs": [
    {
     "data": {
      "text/plain": [
       "<function lmfit.lineshapes.lorentzian>"
      ]
     },
     "execution_count": 38,
     "metadata": {},
     "output_type": "execute_result"
    }
   ],
   "source": [
    "from lmfit.lineshapes import lorentzian\n",
    "\n",
    "lorentzian"
   ]
  },
  {
   "cell_type": "code",
   "execution_count": null,
   "metadata": {},
   "outputs": [],
   "source": [
    "def model():\n",
    "    peak = LorentzianModel()\n",
    "    # background = LinearModel()\n",
    "    # model = peak + background\n",
    "    return peak\n",
    "\n",
    "\n",
    "params = {}\n",
    "\n",
    "\n",
    "minimize(model(), params)"
   ]
  }
 ],
 "metadata": {
  "kernelspec": {
   "display_name": "Python 3",
   "language": "python",
   "name": "python3"
  },
  "language_info": {
   "codemirror_mode": {
    "name": "ipython",
    "version": 3
   },
   "file_extension": ".py",
   "mimetype": "text/x-python",
   "name": "python",
   "nbconvert_exporter": "python",
   "pygments_lexer": "ipython3",
   "version": "3.6.4"
  }
 },
 "nbformat": 4,
 "nbformat_minor": 2
}
