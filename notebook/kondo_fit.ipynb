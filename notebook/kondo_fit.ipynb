{
 "cells": [
  {
   "cell_type": "code",
   "execution_count": 1,
   "metadata": {},
   "outputs": [],
   "source": [
    "##### setting\n",
    "### set filename you want to analysis\n",
    "pkldata = None\n",
    "\n",
    "if pkldata == None:\n",
    "    import os\n",
    "    import smooziee\n",
    "    pkldata = os.path.join(os.path.dirname(smooziee.__file__), 'data', 'PbTe_sq_GL711_p0p55_RT_1.pkl')"
   ]
  },
  {
   "cell_type": "code",
   "execution_count": null,
   "metadata": {
    "scrolled": true
   },
   "outputs": [],
   "source": [
    "##### import\n",
    "from smooziee.smooziee import fitting\n",
    "from smooziee.smooziee import peak_search\n",
    "import imp\n",
    "import matplotlib.pyplot as plt\n",
    "imp.reload(fitting)\n",
    "imp.reload(peak_search)"
   ]
  },
  {
   "cell_type": "code",
   "execution_count": null,
   "metadata": {},
   "outputs": [],
   "source": [
    "peak_num = fitting.result_peaksearch(pkldata)"
   ]
  },
  {
   "cell_type": "code",
   "execution_count": null,
   "metadata": {},
   "outputs": [],
   "source": [
    "fitter = fitting.Fitting(pkldata, ['lorentzian' for i in range(peak_num)])"
   ]
  },
  {
   "cell_type": "code",
   "execution_count": null,
   "metadata": {},
   "outputs": [],
   "source": [
    "fitter.set_params_vary(range(peak_num), ['center'], vary=False)\n"
   ]
  },
  {
   "cell_type": "code",
   "execution_count": null,
   "metadata": {},
   "outputs": [],
   "source": [
    "fitter.params.pretty_print()"
   ]
  },
  {
   "cell_type": "code",
   "execution_count": null,
   "metadata": {},
   "outputs": [],
   "source": [
    "fitter.fit()\n",
    "fitter.set_result_param_to_inital()\n",
    "fitter.params.pretty_print()"
   ]
  },
  {
   "cell_type": "code",
   "execution_count": null,
   "metadata": {},
   "outputs": [],
   "source": [
    "fitter.plot(show_init=True, eval_components=True)"
   ]
  },
  {
   "cell_type": "code",
   "execution_count": null,
   "metadata": {},
   "outputs": [],
   "source": [
    "fitter.set_params(i_peak=2, param_name='sigma', values={'value': 0.4})\n",
    "fitter.set_params(i_peak=2, param_name='amplitude', values={'value': 0.1})\n",
    "fitter.set_params(i_peak=4, param_name='amplitude', values={'value': 0.2})\n",
    "fitter.plot_from_params(eval_components=True)\n",
    "# fitter.params.pretty_print()"
   ]
  },
  {
   "cell_type": "code",
   "execution_count": null,
   "metadata": {},
   "outputs": [],
   "source": [
    "fitter.set_params_vary([2, 4], ['sigma', 'amplitude'], vary=False)\n",
    "fitter.fit()\n",
    "fitter.set_result_param_to_inital()\n",
    "fitter.plot(show_init=True, eval_components=True)"
   ]
  },
  {
   "cell_type": "code",
   "execution_count": null,
   "metadata": {},
   "outputs": [],
   "source": [
    "fitter.fit()\n",
    "fitter.set_result_param_to_inital()\n",
    "fitter.plot(show_init=True, eval_components=True)"
   ]
  },
  {
   "cell_type": "code",
   "execution_count": null,
   "metadata": {},
   "outputs": [],
   "source": [
    "fitter.set_params_vary(i_peaks=range(peak_num),\n",
    "                       param_names=['sigma', 'amplitude', 'center'],\n",
    "                       vary=True)\n",
    "fitter.fit()\n",
    "fitter.set_result_param_to_inital()\n",
    "fitter.params.pretty_print()"
   ]
  },
  {
   "cell_type": "code",
   "execution_count": null,
   "metadata": {},
   "outputs": [],
   "source": [
    "fitter.plot(show_init=True, eval_components=True)\n",
    "# type(fitter.result)"
   ]
  },
  {
   "cell_type": "code",
   "execution_count": null,
   "metadata": {},
   "outputs": [],
   "source": []
  },
  {
   "cell_type": "code",
   "execution_count": null,
   "metadata": {},
   "outputs": [],
   "source": []
  }
 ],
 "metadata": {
  "kernelspec": {
   "display_name": "Python 3",
   "language": "python",
   "name": "python3"
  },
  "language_info": {
   "codemirror_mode": {
    "name": "ipython",
    "version": 3
   },
   "file_extension": ".py",
   "mimetype": "text/x-python",
   "name": "python",
   "nbconvert_exporter": "python",
   "pygments_lexer": "ipython3",
   "version": "3.6.6"
  }
 },
 "nbformat": 4,
 "nbformat_minor": 2
}
