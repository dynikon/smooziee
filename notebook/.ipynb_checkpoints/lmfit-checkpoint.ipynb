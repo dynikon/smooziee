{
 "cells": [
  {
   "cell_type": "code",
   "execution_count": 1,
   "metadata": {},
   "outputs": [],
   "source": [
    "##### setting\n",
    "### set filename you want to analysis\n",
    "filepath = None\n",
    "\n",
    "if filepath == None:\n",
    "    import os\n",
    "    import smooziee\n",
    "    filepath = os.path.join(os.path.dirname(smooziee.__file__), 'data', 'PbTe_sq_GX711_p0p25_RT_4')\n",
    "    \n",
    "filename = os.path.basename(filepath)"
   ]
  },
  {
   "cell_type": "code",
   "execution_count": 3,
   "metadata": {},
   "outputs": [
    {
     "ename": "IndentationError",
     "evalue": "unexpected indent (fitting.py, line 178)",
     "output_type": "error",
     "traceback": [
      "Traceback \u001b[0;36m(most recent call last)\u001b[0m:\n",
      "  File \u001b[1;32m\"/Users/keiyu/.pyenv/versions/anaconda3-5.0.1/lib/python3.6/site-packages/IPython/core/interactiveshell.py\"\u001b[0m, line \u001b[1;32m2963\u001b[0m, in \u001b[1;35mrun_code\u001b[0m\n    exec(code_obj, self.user_global_ns, self.user_ns)\n",
      "\u001b[0;36m  File \u001b[0;32m\"<ipython-input-3-8ef37fb1186d>\"\u001b[0;36m, line \u001b[0;32m2\u001b[0;36m, in \u001b[0;35m<module>\u001b[0;36m\u001b[0m\n\u001b[0;31m    import smooziee.module.fitting as sm_fit\u001b[0m\n",
      "\u001b[0;36m  File \u001b[0;32m\"/Users/keiyu/Github/smooziee/module/fitting.py\"\u001b[0;36m, line \u001b[0;32m178\u001b[0m\n\u001b[0;31m    \"params\" :\u001b[0m\n\u001b[0m    ^\u001b[0m\n\u001b[0;31mIndentationError\u001b[0m\u001b[0;31m:\u001b[0m unexpected indent\n"
     ]
    }
   ],
   "source": [
    "##### import\n",
    "import smooziee.module.fitting as sm_fit\n",
    "import imp\n",
    "import lmfit\n",
    "from lmfit import Model\n",
    "imp.reload(sm_fit)\n",
    "import pandas as pd\n",
    "import numpy as np\n",
    "import matplotlib.pyplot as plt\n",
    "# from smooziee.module import function\n",
    "from smooziee.module import function_test\n",
    "\n",
    "##### read data from filename\n",
    "data_df = pd.read_csv(filepath, sep='\\s+')\n",
    "x_arr = np.array(data_df.meV)\n",
    "y_arr = np.array(data_df.y_unitpk)"
   ]
  },
  {
   "cell_type": "code",
   "execution_count": 4,
   "metadata": {},
   "outputs": [],
   "source": [
    "from numpy import exp, sin\n",
    "from lmfit import minimize, Parameters\n",
    "def residual(params, x, data):\n",
    "    amp = params['amp']\n",
    "    phaseshift = params['phase']\n",
    "    freq = params['frequency']\n",
    "    decay = params['decay']\n",
    "   # model = amp * sin(x*freq + phaseshift) * exp(-x*x*decay)\n",
    "    model = amp + sin(x*freq + phaseshift) * exp(-x*x*decay)\n",
    "    return (data-model)\n",
    "\n",
    "\n",
    "import lmfit"
   ]
  },
  {
   "cell_type": "code",
   "execution_count": 5,
   "metadata": {},
   "outputs": [],
   "source": [
    "# from lmfit.models import LinearModel, LorentzianModel\n",
    "# lorentzian = LorentzianModel(A=3, myu=2, sigma=1)"
   ]
  },
  {
   "cell_type": "code",
   "execution_count": 12,
   "metadata": {},
   "outputs": [],
   "source": [
    "params = Parameters()\n",
    "# params.add('amp', value=10, expr='decay')\n",
    "params.add('amp', value=1, vary=False)\n",
    "params.add('decay', value=10, expr='amp')\n",
    "params.add('phase', value=0.2)\n",
    "params.add('frequency', value=3.0)\n",
    "\n",
    "# out = minimize(residual, params, args=(x_arr, y_arr))\n",
    "#  params['amp']\n",
    "\n",
    "# params.add('amp', value=5, vary=False)\n",
    "# print(params.valuesdict)\n",
    "params['amp'].expr"
   ]
  },
  {
   "cell_type": "code",
   "execution_count": 11,
   "metadata": {},
   "outputs": [
    {
     "data": {
      "text/plain": [
       "4"
      ]
     },
     "execution_count": 11,
     "metadata": {},
     "output_type": "execute_result"
    }
   ],
   "source": [
    "# print(out.params.valuesdict['amp'])\n",
    "# print(out.params.valuesdict['decay'])\n",
    "# type(out.params[\"decay\"])\n",
    "# out.params['decay'].value\n",
    "len(params.keys())"
   ]
  },
  {
   "cell_type": "code",
   "execution_count": 168,
   "metadata": {},
   "outputs": [
    {
     "name": "stdout",
     "output_type": "stream",
     "text": [
      "1\n",
      "1\n"
     ]
    }
   ],
   "source": [
    "print(out.params['amp'].value)\n",
    "print(out.params['decay'].value)"
   ]
  },
  {
   "cell_type": "code",
   "execution_count": null,
   "metadata": {},
   "outputs": [],
   "source": []
  }
 ],
 "metadata": {
  "kernelspec": {
   "display_name": "Python 3",
   "language": "python",
   "name": "python3"
  },
  "language_info": {
   "codemirror_mode": {
    "name": "ipython",
    "version": 3
   },
   "file_extension": ".py",
   "mimetype": "text/x-python",
   "name": "python",
   "nbconvert_exporter": "python",
   "pygments_lexer": "ipython3",
   "version": "3.6.6"
  }
 },
 "nbformat": 4,
 "nbformat_minor": 2
}
